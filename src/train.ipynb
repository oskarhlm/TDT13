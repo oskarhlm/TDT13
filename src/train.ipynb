{
 "cells": [
  {
   "cell_type": "markdown",
   "metadata": {},
   "source": [
    "# TDT13 Project - Oskar Holm (F2023)\n",
    "\n",
    "This project is based on the shared task related to Social Media Geolocation (SMG) from VarDial 2020 and 2021, specifically the Workshop on Natural Language Processing (NLP) for Similar Languages, Varieties, and Dialects. Unlike typical VarDial tasks that involve choosing from a set of variety labels, this task focuses on predicting the latitude and longitude from which a social media post was made.\n",
    "\n",
    "The task remained the same in both 2020 and 2021, covering three language areas: Bosnian-Croatian-Montenegrin-Serbian, German (Germany and Austria), and German-speaking Switzerland. This project is limited to the German-speaking Switzerland area due to time constraints and resource availability.\n",
    "\n",
    "The goal of the project is to replicate the results of a study that used a BERT-based classifier for this double regression task. The dataset from the 2020 VarDial challenge is chosen because it had more submissions compared to the 2021 dataset. "
   ]
  },
  {
   "cell_type": "markdown",
   "metadata": {},
   "source": [
    "## Setup"
   ]
  },
  {
   "cell_type": "code",
   "execution_count": 2,
   "metadata": {},
   "outputs": [],
   "source": [
    "%load_ext autoreload"
   ]
  },
  {
   "cell_type": "code",
   "execution_count": 45,
   "metadata": {},
   "outputs": [
    {
     "data": {
      "text/plain": [
       "{'train_data': 'SMG2020/ch/train.txt',\n",
       " 'dev_data': 'SMG2020/ch/dev.txt',\n",
       " 'scaler': 'joint',\n",
       " 'model_type': 'bert',\n",
       " 'model_name': 'dbmdz/bert-base-german-uncased',\n",
       " 'lossfn': 'MAELoss',\n",
       " 'save_predictions': True,\n",
       " 'train_batch_size': 32,\n",
       " 'max_seq_length': 128,\n",
       " 'epochs': 100,\n",
       " 'lr': 2e-05,\n",
       " 'seed': 42,\n",
       " 'projection': 'lv95',\n",
       " 'split': 'reduced-dev'}"
      ]
     },
     "execution_count": 45,
     "metadata": {},
     "output_type": "execute_result"
    }
   ],
   "source": [
    "%autoreload 2\n",
    "\n",
    "import torch\n",
    "import numpy as np\n",
    "import pandas as pd\n",
    "from pathlib import Path\n",
    "from torch.utils.data import DataLoader\n",
    "import pickle\n",
    "import json \n",
    "from torch.optim import AdamW\n",
    "from tqdm import tqdm\n",
    "from transformers import logging\n",
    "import random\n",
    "import csv\n",
    "import os\n",
    "\n",
    "from lib.preprocessing import scalers, get_reduced_dev_split\n",
    "from lib.train_utils import TensorBoardCheckpoint, get_model, get_lossfn, get_scheduler, evaluate_geolocation_model_by_checkpoint\n",
    "from lib.geo import to_projection, GeolocationDataset\n",
    "from lib.metrics import median_distance, mean_distance\n",
    "from lib.plotting import plot_switzerland, plot_barchart\n",
    "\n",
    "logging.set_verbosity_error()\n",
    "\n",
    "data_path = '../data'\n",
    "vardial_path = '../vardial-shared-tasks/SMG2020'\n",
    "\n",
    "config_name = 'bert-german-lv95-L1-reduced-dev'\n",
    "with open('./configs.json', 'r') as f: \n",
    "    configs = json.load(f)\n",
    "\n",
    "config = configs[config_name]\n",
    "\n",
    "torch.manual_seed(config['seed'])\n",
    "random.seed(0)\n",
    "np.random.seed(0)\n",
    "\n",
    "config"
   ]
  },
  {
   "cell_type": "code",
   "execution_count": null,
   "metadata": {},
   "outputs": [],
   "source": [
    "# Load datasets\n",
    "train_data = pd.read_table(f'{vardial_path}/ch/train.txt', header=None, names=['lat', 'lon', 'text'])\n",
    "dev_data = pd.read_table(f'{vardial_path}/ch/dev.txt', header=None, names=['lat', 'lon', 'text'])\n",
    "test_gold_data = pd.read_table(f'{vardial_path}/ch/test_gold.txt', header=None, names=['lat', 'lon', 'text'])\n",
    "\n",
    "# Get alternative split, if specified in config\n",
    "if 'split' in config and config['split'] == 'reduced-dev':\n",
    "    train_data, dev_data = get_reduced_dev_split(train_data, dev_data)\n",
    "\n",
    "# Convert to specified projection, if any\n",
    "train_data, col_names = to_projection(train_data, config)\n",
    "dev_data, _ = to_projection(dev_data, config)\n",
    "test_gold_data, _ = to_projection(test_gold_data, config)\n",
    "\n",
    "# Scaling\n",
    "scaler = scalers[config['scaler']]()\n",
    "train_coords = scaler.fit_transform(train_data[col_names[:2]].values)\n",
    "Path(f'{data_path}/ch').mkdir(exist_ok=True)\n",
    "with open(f'{data_path}/ch/scaler.pkl', 'wb') as f:\n",
    "    pickle.dump(scaler, f)\n",
    "\n",
    "# Scale other datasets and create loaders\n",
    "train_dataset = GeolocationDataset(train_data['text'].tolist(), train_coords, config)\n",
    "train_loader = DataLoader(train_dataset, batch_size=config['train_batch_size'], shuffle=True)\n",
    "\n",
    "dev_coords = scaler.transform(dev_data[col_names[:2]].values)\n",
    "dev_dataset = GeolocationDataset(dev_data['text'].tolist(), dev_coords, config)\n",
    "dev_loader = DataLoader(dev_dataset, batch_size=config['train_batch_size'], shuffle=False)\n",
    "\n",
    "test_gold_coords = scaler.transform(test_gold_data[col_names[:2]].values)\n",
    "test_gold_dataset = GeolocationDataset(test_gold_data['text'].tolist(), test_gold_coords, config)\n",
    "test_gold_loader = DataLoader(test_gold_dataset, batch_size=config['train_batch_size'], shuffle=False)\n",
    "\n",
    "train_data.head()"
   ]
  },
  {
   "cell_type": "markdown",
   "metadata": {},
   "source": [
    "## Training \n",
    "\n",
    "### Load Model"
   ]
  },
  {
   "cell_type": "code",
   "execution_count": null,
   "metadata": {},
   "outputs": [],
   "source": [
    "device = torch.device(\"cuda\" if torch.cuda.is_available() else \"cpu\")\n",
    "print(f'Device: {device}')\n",
    "torch.cuda.empty_cache()\n",
    "\n",
    "model = get_model(config)\n",
    "model.to(device)\n",
    "\n",
    "optimizer = AdamW(model.parameters(), config['lr'])\n",
    "if 'scheduler' in config and config['scheduler'] == 'one_cycle_lr':\n",
    "    scheduler = get_scheduler(optimizer, config, steps_per_epoch=len(train_loader))\n",
    "elif 'scheduler' in config:\n",
    "    scheduler = get_scheduler(optimizer, config)\n",
    "    \n",
    "loss_function = get_lossfn(config)"
   ]
  },
  {
   "cell_type": "markdown",
   "metadata": {},
   "source": [
    "### Training Loop"
   ]
  },
  {
   "cell_type": "code",
   "execution_count": null,
   "metadata": {},
   "outputs": [],
   "source": [
    "tb_checkpoint = TensorBoardCheckpoint(log_dir=f'{data_path}/ch/logs',\n",
    "                                      checkpoint_path=f'{data_path}/ch/checkpoints', run_name=config_name)\n",
    "\n",
    "def train(model, train_loader, dev_loader, optimizer, loss_function, scaler, epochs=10):\n",
    "    loss_function = loss_function.to(device)\n",
    "\n",
    "    # Early stopping\n",
    "    best_metric = float('inf')  \n",
    "    epochs_no_improve = 0\n",
    "    early_stop_patience = 30\n",
    "\n",
    "    for epoch in range(epochs):\n",
    "        model.train()\n",
    "        total_loss = 0\n",
    "        for batch in tqdm(train_loader):\n",
    "            optimizer.zero_grad()\n",
    "\n",
    "            # Forward pass\n",
    "            inputs, labels = batch\n",
    "            inputs = {k: v.to(device) for k, v in inputs.items()}\n",
    "            labels = labels.to(device)\n",
    "            outputs = model(**inputs)\n",
    "\n",
    "            # Calculate loss\n",
    "            loss = loss_function(outputs.logits, labels)\n",
    "            total_loss += loss.item()\n",
    "\n",
    "            # Backward pass\n",
    "            loss.backward()\n",
    "            optimizer.step()\n",
    "\n",
    "        avg_train_loss = total_loss / len(train_loader)\n",
    "        print(f\"Epoch {epoch+1}/{epochs} - Training loss: {avg_train_loss:.4f}\")\n",
    "\n",
    "        # Evaluate on dev (validation)\n",
    "        model.eval()\n",
    "        dev_preds = []\n",
    "        dev_labels = []\n",
    "        with torch.no_grad():\n",
    "            for batch in tqdm(dev_loader):\n",
    "                inputs, labels = batch\n",
    "                inputs = {k: v.to(device) for k, v in inputs.items()}\n",
    "                labels = labels.to(device)\n",
    "                outputs = model(**inputs)\n",
    "                dev_preds.append(outputs.logits.cpu().numpy())\n",
    "                dev_labels.append(labels.cpu().numpy())\n",
    "\n",
    "        # Metrics\n",
    "        dev_preds = np.vstack(dev_preds)\n",
    "        dev_labels = np.vstack(dev_labels)\n",
    "\n",
    "        median_dist = median_distance(dev_preds, dev_labels, scaler, config)\n",
    "        mean_dist = mean_distance(dev_preds, dev_labels, scaler, config)\n",
    "\n",
    "        metrics = {\n",
    "            'Loss/train': avg_train_loss, \n",
    "            'Median_Distance/dev': median_dist, \n",
    "            'Mean_Distance/dev': mean_dist,\n",
    "        }\n",
    "        tb_checkpoint.log_metrics(metrics, epoch)\n",
    "        tb_checkpoint.save_checkpoint(model, optimizer, epoch, metrics, scaler=config['scaler'])\n",
    "\n",
    "        current_metric = metrics['Median_Distance/dev'] \n",
    "        if current_metric < best_metric:\n",
    "            best_metric = current_metric\n",
    "            epochs_no_improve = 0\n",
    "        else:\n",
    "            epochs_no_improve += 1\n",
    "            if epochs_no_improve == early_stop_patience:\n",
    "                print(f\"Early stopping triggered after {epoch + 1} epochs.\")\n",
    "                break\n",
    "\n",
    "        if 'scheduler' in config:\n",
    "            scheduler.step(metrics['Median_Distance/dev'])\n",
    "\n",
    "with open(f'{data_path}/ch/scaler.pkl', 'rb') as f:\n",
    "    scaler = pickle.load(f)\n",
    "\n",
    "train(model, train_loader, dev_loader, optimizer, loss_function, scaler, epochs=config['epochs'])\n",
    "\n",
    "tb_checkpoint.close()"
   ]
  },
  {
   "cell_type": "markdown",
   "metadata": {},
   "source": [
    "## Evaluation\n",
    "\n",
    "### Evaluate and compare all models "
   ]
  },
  {
   "cell_type": "code",
   "execution_count": 46,
   "metadata": {},
   "outputs": [
    {
     "name": "stderr",
     "output_type": "stream",
     "text": [
      "100%|██████████| 97/97 [00:19<00:00,  5.06it/s]\n"
     ]
    },
    {
     "name": "stdout",
     "output_type": "stream",
     "text": [
      "20231107-230346_best_model.pth test results: {'median_distance': 16.44642298143306, 'mean_distance': 23.11484565124471}\n",
      "\n"
     ]
    },
    {
     "name": "stderr",
     "output_type": "stream",
     "text": [
      "100%|██████████| 97/97 [00:17<00:00,  5.46it/s]\n"
     ]
    },
    {
     "name": "stdout",
     "output_type": "stream",
     "text": [
      "20231108-155200_best_model.pth test results: {'median_distance': 16.570519292930843, 'mean_distance': 23.857210359269036}\n",
      "\n"
     ]
    },
    {
     "name": "stderr",
     "output_type": "stream",
     "text": [
      "100%|██████████| 97/97 [00:18<00:00,  5.38it/s]\n"
     ]
    },
    {
     "name": "stdout",
     "output_type": "stream",
     "text": [
      "20231110-113013_best_model.pth test results: {'median_distance': 17.805843571177228, 'mean_distance': 25.810173341015037}\n",
      "\n"
     ]
    },
    {
     "name": "stderr",
     "output_type": "stream",
     "text": [
      "100%|██████████| 97/97 [00:17<00:00,  5.43it/s]\n"
     ]
    },
    {
     "name": "stdout",
     "output_type": "stream",
     "text": [
      "20231110-172533_best_model.pth test results: {'median_distance': 17.07817041664216, 'mean_distance': 24.844411005876797}\n",
      "\n"
     ]
    },
    {
     "name": "stderr",
     "output_type": "stream",
     "text": [
      "100%|██████████| 97/97 [00:18<00:00,  5.35it/s]\n"
     ]
    },
    {
     "name": "stdout",
     "output_type": "stream",
     "text": [
      "20231111-130032_best_model.pth test results: {'median_distance': 16.90102504837839, 'mean_distance': 24.528637937808156}\n",
      "\n"
     ]
    },
    {
     "name": "stderr",
     "output_type": "stream",
     "text": [
      "100%|██████████| 97/97 [00:18<00:00,  5.39it/s]\n"
     ]
    },
    {
     "name": "stdout",
     "output_type": "stream",
     "text": [
      "utm_lr2e-5_best_model.pth test results: {'median_distance': 16.400457993668205, 'mean_distance': 23.352911730025614}\n",
      "\n"
     ]
    },
    {
     "name": "stderr",
     "output_type": "stream",
     "text": [
      "100%|██████████| 97/97 [00:17<00:00,  5.44it/s]\n"
     ]
    },
    {
     "name": "stdout",
     "output_type": "stream",
     "text": [
      "bert-finetuned-swiss-100epoch_best_model.pth test results: {'median_distance': 16.05378632874989, 'mean_distance': 22.95918637897691}\n",
      "\n"
     ]
    },
    {
     "name": "stderr",
     "output_type": "stream",
     "text": [
      "100%|██████████| 97/97 [00:20<00:00,  4.74it/s]\n"
     ]
    },
    {
     "name": "stdout",
     "output_type": "stream",
     "text": [
      "swissbert_best_model.pth test results: {'median_distance': 17.586441083651746, 'mean_distance': 24.471539766289755}\n",
      "\n"
     ]
    },
    {
     "name": "stderr",
     "output_type": "stream",
     "text": [
      "100%|██████████| 97/97 [00:18<00:00,  5.38it/s]\n"
     ]
    },
    {
     "name": "stdout",
     "output_type": "stream",
     "text": [
      "bert-swiss-L2-reduced-dev-plateau_best_model.pth test results: {'median_distance': 17.677905275036863, 'mean_distance': 23.59483114024991}\n",
      "\n"
     ]
    },
    {
     "name": "stderr",
     "output_type": "stream",
     "text": [
      "100%|██████████| 194/194 [00:40<00:00,  4.81it/s]\n"
     ]
    },
    {
     "name": "stdout",
     "output_type": "stream",
     "text": [
      "gbert-large_best_model.pth test results: {'median_distance': 39.64651176230118, 'mean_distance': 47.665548447045836}\n",
      "\n"
     ]
    },
    {
     "name": "stderr",
     "output_type": "stream",
     "text": [
      "100%|██████████| 97/97 [00:18<00:00,  5.36it/s]\n"
     ]
    },
    {
     "name": "stdout",
     "output_type": "stream",
     "text": [
      "bert-finetuned-swiss-L1-reduced-dev-plateau_best_model.pth test results: {'median_distance': 16.515042809864763, 'mean_distance': 23.45507691597444}\n",
      "\n"
     ]
    },
    {
     "name": "stderr",
     "output_type": "stream",
     "text": [
      "100%|██████████| 97/97 [00:18<00:00,  5.38it/s]\n"
     ]
    },
    {
     "name": "stdout",
     "output_type": "stream",
     "text": [
      "bert-ft-swiss-latlon-L1-reduced-dev-one-cycle-lr_best_model.pth test results: {'median_distance': 39.62756013468044, 'mean_distance': 47.69802052752952}\n",
      "\n"
     ]
    },
    {
     "name": "stderr",
     "output_type": "stream",
     "text": [
      "100%|██████████| 97/97 [00:17<00:00,  5.41it/s]\n"
     ]
    },
    {
     "name": "stdout",
     "output_type": "stream",
     "text": [
      "bert-ft-swiss-latlon-L1-reduced-dev-plateau_best_model.pth test results: {'median_distance': 16.508665656553227, 'mean_distance': 23.658240119826672}\n",
      "\n"
     ]
    },
    {
     "name": "stderr",
     "output_type": "stream",
     "text": [
      "100%|██████████| 97/97 [00:18<00:00,  5.35it/s]\n"
     ]
    },
    {
     "name": "stdout",
     "output_type": "stream",
     "text": [
      "bert-ft-swiss-utm-L1-reduced-dev_best_model.pth test results: {'median_distance': 16.24561166234145, 'mean_distance': 24.05647741954583}\n",
      "\n"
     ]
    },
    {
     "name": "stderr",
     "output_type": "stream",
     "text": [
      "100%|██████████| 97/97 [00:18<00:00,  5.34it/s]\n"
     ]
    },
    {
     "name": "stdout",
     "output_type": "stream",
     "text": [
      "bert-ft-swiss-latlon-L1-reduced-dev_best_model.pth test results: {'median_distance': 16.19306181889891, 'mean_distance': 23.790147924160806}\n",
      "\n"
     ]
    },
    {
     "name": "stderr",
     "output_type": "stream",
     "text": [
      "100%|██████████| 97/97 [00:18<00:00,  5.38it/s]\n"
     ]
    },
    {
     "name": "stdout",
     "output_type": "stream",
     "text": [
      "bert-ft-swiss-lv95-L1-reduced-dev_best_model.pth test results: {'median_distance': 15.75871189054547, 'mean_distance': 22.954655710475592}\n",
      "\n"
     ]
    },
    {
     "name": "stderr",
     "output_type": "stream",
     "text": [
      "100%|██████████| 97/97 [00:19<00:00,  5.06it/s]"
     ]
    },
    {
     "name": "stdout",
     "output_type": "stream",
     "text": [
      "bert-german-lv95-L1-reduced-dev_best_model.pth test results: {'median_distance': 17.681147819810032, 'mean_distance': 24.84411533822922}\n",
      "\n",
      "----------------------------------------\n",
      "Best Checkpoint: bert-ft-swiss-lv95-L1-reduced-dev_best_model.pth\n",
      "Best Results: {'median_distance': 15.75871189054547, 'mean_distance': 22.954655710475592}\n"
     ]
    },
    {
     "name": "stderr",
     "output_type": "stream",
     "text": [
      "\n"
     ]
    }
   ],
   "source": [
    "chkp_dir = f'{data_path}/ch/checkpoints'\n",
    "config_names = configs.keys()\n",
    "\n",
    "best_results = {\n",
    "    'median_distance': np.inf,\n",
    "    'mean_distance': np.inf\n",
    "}\n",
    "\n",
    "csv_file_path = 'geolocation_results.csv'\n",
    "\n",
    "# Check if the CSV file exists and delete it\n",
    "if os.path.exists(csv_file_path):\n",
    "    os.remove(csv_file_path)\n",
    "\n",
    "# Create and open CSV file for logging\n",
    "with open(csv_file_path, mode='w', newline='') as file:\n",
    "    writer = csv.writer(file)\n",
    "    writer.writerow(['Name', 'Median Distance', 'Mean Distance'])\n",
    "\n",
    "for config_name in config_names:\n",
    "    chkp_file = f'{config_name}_best_model.pth'\n",
    "    chkp_config = configs[config_name]\n",
    "\n",
    "    results, _ = evaluate_geolocation_model_by_checkpoint(\n",
    "        chkp_dir,\n",
    "        chkp_file,\n",
    "        vardial_path,\n",
    "        chkp_config,\n",
    "    )\n",
    "\n",
    "    # Log results to CSV file\n",
    "    with open(csv_file_path, mode='a', newline='') as file:\n",
    "        writer = csv.writer(file)\n",
    "        writer.writerow([config_name, results['median_distance'], results['mean_distance']])\n",
    "\n",
    "    if results['median_distance'] < best_results['median_distance']:\n",
    "        best_checkpoint = chkp_file\n",
    "        best_results['median_distance'] = results['median_distance']\n",
    "        best_results['mean_distance'] = results['mean_distance']\n",
    "\n",
    "print(f\"{'-' * 40}\\nBest Checkpoint:\", best_checkpoint)\n",
    "print(\"Best Results:\", best_results)\n"
   ]
  },
  {
   "cell_type": "markdown",
   "metadata": {},
   "source": [
    "### Evaluate single model"
   ]
  },
  {
   "cell_type": "code",
   "execution_count": null,
   "metadata": {},
   "outputs": [],
   "source": [
    "# config_name = '20231107-230346'\n",
    "chkp_dir = f'{data_path}/ch/checkpoints'\n",
    "# config_name = 'bert-ft-swiss-lv95-L1-reduced-dev'\n",
    "config_name = '20231111-130032'\n",
    "\n",
    "chkp_file = f'{config_name}_best_model.pth'\n",
    "chkp_config = configs[config_name]\n",
    "\n",
    "_, test_preds = evaluate_geolocation_model_by_checkpoint(\n",
    "    chkp_dir,\n",
    "    chkp_file,\n",
    "    vardial_path,\n",
    "    chkp_config,\n",
    ")\n",
    "\n",
    "test_gold_data = pd.read_table(f'{vardial_path}/ch/test_gold.txt', header=None, names=['lat', 'lon', 'text'])"
   ]
  },
  {
   "cell_type": "code",
   "execution_count": 43,
   "metadata": {},
   "outputs": [
    {
     "data": {
      "text/plain": [
       "'joint'"
      ]
     },
     "execution_count": 43,
     "metadata": {},
     "output_type": "execute_result"
    }
   ],
   "source": [
    "# config_name = 'bert-ft-swiss-lv95-L1-reduced-dev'\n",
    "config_name = 'bert-ft-swiss-latlon-L1-reduced-dev-plateau'\n",
    "checkpoint_path = f'{chkp_dir}/{config_name}_best_model.pth'\n",
    "\n",
    "mdl = torch.load(checkpoint_path)\n",
    "mdl['scaler'] = 'joint'\n",
    "\n",
    "torch.save(mdl, checkpoint_path)\n",
    "\n",
    "mdl2 = torch.load(checkpoint_path)\n",
    "mdl2['scaler']"
   ]
  },
  {
   "cell_type": "markdown",
   "metadata": {},
   "source": [
    "## Plots"
   ]
  },
  {
   "cell_type": "code",
   "execution_count": null,
   "metadata": {},
   "outputs": [],
   "source": [
    "plot_switzerland(test_preds, test_gold_data, data_path)"
   ]
  },
  {
   "cell_type": "code",
   "execution_count": null,
   "metadata": {},
   "outputs": [],
   "source": [
    "plot_barchart(test_preds, test_gold_data)"
   ]
  }
 ],
 "metadata": {
  "kernelspec": {
   "display_name": "venv",
   "language": "python",
   "name": "python3"
  },
  "language_info": {
   "codemirror_mode": {
    "name": "ipython",
    "version": 3
   },
   "file_extension": ".py",
   "mimetype": "text/x-python",
   "name": "python",
   "nbconvert_exporter": "python",
   "pygments_lexer": "ipython3",
   "version": "3.11.6"
  }
 },
 "nbformat": 4,
 "nbformat_minor": 2
}
